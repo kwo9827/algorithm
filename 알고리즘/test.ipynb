{
 "cells": [
  {
   "cell_type": "code",
   "execution_count": 4,
   "metadata": {},
   "outputs": [
    {
     "name": "stdout",
     "output_type": "stream",
     "text": [
      "1 4 7\n",
      "2 5 8\n",
      "3 6 9\n"
     ]
    }
   ],
   "source": [
    "N= 3\n",
    "arr = [[0] * N for _ in range(N)]\n",
    "\n",
    "# 행 우선순회\n",
    "cnt = 1\n",
    "for r in range(N): # 0 -> N-1\n",
    "    # arr[r] : 행 선택\n",
    "    for c in range(N): # 0 -> N-1\n",
    "        arr[r][c] = cnt\n",
    "        cnt += 1\n",
    "\n",
    "# 열 우선순회\n",
    "cnt = 1\n",
    "for c in range(N): # 0 -> N-1\n",
    "    # arr[r] : 행 선택\n",
    "    for r in range(N): # 0 -> N-1\n",
    "        arr[r][c] = cnt\n",
    "        cnt += 1\n",
    "\n",
    "for row in arr: \n",
    "    print(*row)"
   ]
  },
  {
   "cell_type": "code",
   "execution_count": null,
   "metadata": {},
   "outputs": [],
   "source": [
    "T = int(input())  # 테스트 케이스 수 입력\n",
    "\n",
    "# 델타 배열: 본인(0, 0)을 포함한 상하좌우 4방향\n",
    "dr = [0, -1, 0, 1, 0]\n",
    "dc = [0, 0, 1, 0, -1]\n",
    "\n",
    "for tc in range(1, T + 1):\n",
    "    N = int(input())  # 2차원 배열 크기\n",
    "    lst = [list(map(int, input().split())) for _ in range(N)]  # 2차원 배열 입력\n",
    "\n",
    "    max_sum = float('-inf')  # 최대 합 초기화\n",
    "\n",
    "    for r in range(N):\n",
    "        for c in range(N):\n",
    "            total = 0  # 현재 위치에서의 합 초기화\n",
    "\n",
    "            for k in range(5):  # 0~4 까지 반복 (본인 포함 상하좌우 4방향)\n",
    "                nr = r + dr[k]\n",
    "                nc = c + dc[k]\n",
    "\n",
    "                # 배열의 범위를 벗어나지 않는 경우에만 더함\n",
    "                if 0 <= nr < N and 0 <= nc < N:\n",
    "                    total += lst[nr][nc]\n",
    "\n",
    "            # 최대 합 갱신\n",
    "            if total > max_sum:\n",
    "                max_sum = total\n",
    "\n",
    "    print(f'#{tc} {max_sum}')"
   ]
  },
  {
   "cell_type": "code",
   "execution_count": 32,
   "metadata": {},
   "outputs": [
    {
     "name": "stdout",
     "output_type": "stream",
     "text": [
      "#1 inf\n"
     ]
    },
    {
     "ename": "ValueError",
     "evalue": "invalid literal for int() with base 10: 'escape'",
     "output_type": "error",
     "traceback": [
      "\u001b[1;31m---------------------------------------------------------------------------\u001b[0m",
      "\u001b[1;31mValueError\u001b[0m                                Traceback (most recent call last)",
      "Cell \u001b[1;32mIn[32], line 7\u001b[0m\n\u001b[0;32m      4\u001b[0m dc \u001b[38;5;241m=\u001b[39m [\u001b[38;5;241m1\u001b[39m,\u001b[38;5;241m0\u001b[39m,\u001b[38;5;241m-\u001b[39m\u001b[38;5;241m1\u001b[39m,\u001b[38;5;241m0\u001b[39m]\n\u001b[0;32m      6\u001b[0m \u001b[38;5;28;01mfor\u001b[39;00m tc \u001b[38;5;129;01min\u001b[39;00m (\u001b[38;5;241m1\u001b[39m,T\u001b[38;5;241m+\u001b[39m\u001b[38;5;241m1\u001b[39m):\n\u001b[1;32m----> 7\u001b[0m     N \u001b[38;5;241m=\u001b[39m \u001b[38;5;28;43mint\u001b[39;49m\u001b[43m(\u001b[49m\u001b[38;5;28;43minput\u001b[39;49m\u001b[43m(\u001b[49m\u001b[43m)\u001b[49m\u001b[43m)\u001b[49m    \u001b[38;5;66;03m# 2차원 배열 크기\u001b[39;00m\n\u001b[0;32m      8\u001b[0m     lst \u001b[38;5;241m=\u001b[39m [\u001b[38;5;28mlist\u001b[39m(\u001b[38;5;28mmap\u001b[39m(\u001b[38;5;28mint\u001b[39m,\u001b[38;5;28minput\u001b[39m()\u001b[38;5;241m.\u001b[39msplit())) \u001b[38;5;28;01mfor\u001b[39;00m _ \u001b[38;5;129;01min\u001b[39;00m \u001b[38;5;28mrange\u001b[39m(N)] \n\u001b[0;32m     10\u001b[0m     max_neighbor \u001b[38;5;241m=\u001b[39m \u001b[38;5;28mfloat\u001b[39m(\u001b[38;5;124m'\u001b[39m\u001b[38;5;124minf\u001b[39m\u001b[38;5;124m'\u001b[39m)\n",
      "\u001b[1;31mValueError\u001b[0m: invalid literal for int() with base 10: 'escape'"
     ]
    }
   ],
   "source": [
    "T = int(input())  # 테스트 케이스 입력\n",
    "\n",
    "dr = [0,1,0,-1]\n",
    "dc = [1,0,-1,0]\n",
    "\n",
    "for tc in range(1,T+1):\n",
    "    N = int(input())    # 2차원 배열 크기\n",
    "    lst = [list(map(int,input().split())) for _ in range(N)] \n",
    "\n",
    "    max_neighbor = float('-inf')\n",
    "\n",
    "    for r in range(N):\n",
    "        for c in range(N):\n",
    "            total = lst[r][c]\n",
    "\n",
    "            for k in range(4):\n",
    "                nr = r + dr[k]\n",
    "                nc = c + dc[k]\n",
    "                \n",
    "                if 0 <= nr < N and 0 <= nc < N:\n",
    "                    total += lst[nr][nc]\n",
    "                    \n",
    "            if total > max_neighbor:\n",
    "                max_neighbor = total\n",
    "\n",
    "    print(f'#{tc} {max_neighbor}')    "
   ]
  },
  {
   "cell_type": "code",
   "execution_count": 17,
   "metadata": {},
   "outputs": [
    {
     "name": "stdout",
     "output_type": "stream",
     "text": [
      "0 0 0 0 0\n",
      "2 0 0 0 0\n",
      "0 2 * 0 0\n",
      "0 0 2 0 0\n",
      "0 0 0 2 0\n"
     ]
    }
   ],
   "source": [
    "N= 5\n",
    "arr = [[0] * N for _ in range(5)]\n",
    "\n",
    "\n",
    "r = 2\n",
    "c = 2\n",
    "arr[r][c] = '*'\n",
    "\n",
    "dr = [-1,1,0,0]\n",
    "dc = [0,0,-1,1]\n",
    "\n",
    "for r in range(N):\n",
    "    for c in range(N):\n",
    "        # 기준점 (r,c)\n",
    "        for i in range(4):\n",
    "            nr = r + dr[i]\n",
    "            nc = r + dc[i]\n",
    "            # if 0 <= nr < N and 0 <= nc < N:    # 경계 체크\n",
    "            #     arr[nr][nc] = i + 1\n",
    "\n",
    "            if nr < 0 or nr >= N or nc < 0 or nc >= N:\n",
    "                continue\n",
    "            # arr[nr][nc] = i + 1\n",
    "\n",
    "for row in arr:\n",
    "    print(*row)"
   ]
  },
  {
   "cell_type": "code",
   "execution_count": 25,
   "metadata": {},
   "outputs": [
    {
     "name": "stdout",
     "output_type": "stream",
     "text": [
      "0 0 0 0 0 0 0 0 0 0\n",
      "0 0 0 0 0 0 0 0 0 0\n",
      "0 0 0 0 0 0 0 0 0 0\n",
      "0 0 0 2 2 2 2 2 2 0\n",
      "0 0 0 2 2 2 2 2 2 0\n",
      "0 0 0 2 2 2 2 2 2 0\n",
      "0 0 0 2 2 2 2 2 2 0\n",
      "0 0 0 2 2 2 2 2 2 0\n",
      "0 0 0 0 0 0 0 0 0 0\n",
      "0 0 0 0 0 0 0 0 0 0\n"
     ]
    }
   ],
   "source": [
    "dr = [-1,1,0,0]\n",
    "dc = [0,0,-1,1]\n",
    "\n",
    "N= 10\n",
    "arr = [[0] * N for _ in range(N)]\n",
    "\n",
    "# 1. 좌상단, 우하단 좌표를 알고 있을 때\n",
    "# r1,c1 = 3,3\n",
    "# r2,c2 = 7,8\n",
    "\n",
    "# for r in range(r1,r2+1):\n",
    "#     for c in range(c1,c2+1):\n",
    "#         arr[r][c]=1\n",
    "\n",
    "# 2. 좌상단, 행과 열의 크기를 알고 있을 때\n",
    "r1,c1 = 3,3\n",
    "rsize = 5\n",
    "csize = 6\n",
    "\n",
    "for r in range(r1,r1+rsize):\n",
    "    for c in range(c1,c1+csize):\n",
    "        arr[r][c] =2 \n",
    "\n",
    "for row in arr:\n",
    "    print(*row)"
   ]
  },
  {
   "cell_type": "code",
   "execution_count": 7,
   "metadata": {},
   "outputs": [
    {
     "name": "stdout",
     "output_type": "stream",
     "text": [
      "#124\n"
     ]
    }
   ],
   "source": [
    "T = 10\n",
    "    \n",
    "for tc in range(1,11):\n",
    "    lst = [list(map(int,input().split()))for _ in range(100)]\n",
    "\n",
    "    max_row = max_col = max_cross_1 = max_cross_2 = 0\n",
    "\n",
    "    sum_cross_1 = sum_cross_2 = 0\n",
    "    \n",
    "    for i in range(100):\n",
    "        sum_row = sum_col = 0\n",
    "        \n",
    "        sum_cross_1 += lst[i][i]\n",
    "        sum_cross_2 += lst[i][N-1-i]\n",
    "\n",
    "        # print('대각선:',sum_cross_1)\n",
    "        # print('대각선2:',sum_cross_2)\n",
    "\n",
    "        if sum_cross_1 > max_cross_1:\n",
    "            max_cross_1 = sum_cross_1\n",
    "        if sum_cross_2 > max_cross_2:\n",
    "            max_cross_2 = sum_cross_2\n",
    "\n",
    "        for j in range(100):\n",
    "            sum_row += lst[i][j]   \n",
    "            sum_col += lst[j][i]\n",
    "            \n",
    "            # print('열',sum_row)\n",
    "            # print('행',sum_col)\n",
    "\n",
    "            if sum_row > max_row:\n",
    "                max_row = sum_row\n",
    "\n",
    "            if sum_col > max_col:\n",
    "                max_col = sum_col\n",
    "\n",
    "        result = max(max_row,max_col,max_cross_1,max_cross_2)\n",
    "\n",
    "    print(f'#{tc} {result}')"
   ]
  },
  {
   "cell_type": "code",
   "execution_count": null,
   "metadata": {},
   "outputs": [],
   "source": [
    "# 열, 행, 대각선 합 중 최댓값 구하기\n",
    "\n",
    "for _ in range(10):\n",
    "    tc = int(input())\n",
    "    lst = [list(map(int,input().split())) for _ in range(100)]\n",
    "\n",
    "    max_v = float('-inf')\n",
    "\n",
    "    sum_cross_1 = 0\n",
    "    sum_cross_2 = 0\n",
    "    \n",
    "    for i in range(100):\n",
    "        sum_row = 0\n",
    "        sum_col = 0\n",
    "        \n",
    "        sum_cross_1 += lst[i][i]\n",
    "        sum_cross_2 += lst[i][100-1-i]\n",
    "\n",
    "        for j in range(100):\n",
    "            sum_row += lst[i][j]   \n",
    "            sum_col += lst[j][i]\n",
    "\n",
    "        if sum_row > max_v:\n",
    "            max_v = sum_row\n",
    "\n",
    "        if sum_col > max_v:\n",
    "            max_v = sum_col\n",
    "\n",
    "    if sum_cross_1 > max_v:\n",
    "        max_v = sum_cross_1\n",
    "            \n",
    "    if sum_cross_2 > max_v:\n",
    "        max_v = sum_cross_2\n",
    "\n",
    "    result = max_v\n",
    "\n",
    "    print(f'#{tc} {result}')"
   ]
  },
  {
   "cell_type": "code",
   "execution_count": null,
   "metadata": {},
   "outputs": [],
   "source": [
    "# 행,열, 대각선 비교해서 최댓값 구하기\n",
    "\n",
    "T = 1\n",
    "N = 3\n",
    "for tc in range(1,T+1):\n",
    "    lst = [list(map(int,input().split()))for _ in range(N)]\n",
    "\n",
    "    max_row = max_col = max_cross_1 = max_cross_2 = 0\n",
    "    sum_cross_1 = sum_cross_2 = 0\n",
    "    \n",
    "    for i in range(3):\n",
    "        sum_row = sum_col = 0\n",
    "        \n",
    "        sum_cross_1 += lst[i][i]  # 왼쪽 대각선 합 \n",
    "        sum_cross_2 += lst[i][N-1-i] # 오른쪽 대각선 합\n",
    "\n",
    "        max_cross_1 = max(sum_cross_1) # 왼쪽 대각선 최댓값\n",
    "        max_cross_2 = max(sum_cross_2) # 오른쪽 대각선 최댓값\n",
    "\n",
    "        for j in range(3):\n",
    "            sum_row += lst[i][j] # 열 합\n",
    "            sum_col += lst[j][i] # 행 합\n",
    "            \n",
    "            max_row = max(sum_row) # 열 최댓값\n",
    "            max_col = max(sum_col) # 행 최댓값\n",
    "            \n",
    "        result = max(max_row,max_col,max_cross_1,max_cross_2)\n",
    "\n",
    "    print(f'#{tc} {result}')"
   ]
  },
  {
   "cell_type": "code",
   "execution_count": null,
   "metadata": {},
   "outputs": [],
   "source": [
    "# 상하좌우 인접원소 더하기\n",
    "\n",
    "for tc in range(1,11):\n",
    "    lst = [list(map(int,input().split()))for _ in range(100)]\n",
    "\n",
    "    max_row = max_col = max_cross_1 = max_cross_2 = 0\n",
    "    sum_cross_1 = sum_cross_2 = 0\n",
    "    \n",
    "    for i in range(100):\n",
    "        sum_row = sum_col = 0\n",
    "        \n",
    "        sum_cross_1 += lst[i][i]  # 왼쪽 대각선 합 \n",
    "        sum_cross_2 += lst[i][N-1-i] # 오른쪽 대각선 합\n",
    "\n",
    "        max_cross_1 = max(sum_cross_1) # 왼쪽 대각선 최댓값\n",
    "        max_cross_2 = max(sum_cross_2) # 오른쪽 대각선 최댓값\n",
    "\n",
    "        for j in range(100):\n",
    "            sum_row += lst[i][j] # 열 합\n",
    "            sum_col += lst[j][i] # 행 합\n",
    "            \n",
    "            max_row = max(sum_row) # 열 최댓값\n",
    "            max_col = max(sum_col) # 행 최댓값\n",
    "            \n",
    "        result = max(max_row,max_col,max_cross_1,max_cross_2)\n",
    "\n",
    "    print(f'#{tc} {result}')"
   ]
  },
  {
   "cell_type": "code",
   "execution_count": null,
   "metadata": {},
   "outputs": [],
   "source": [
    "for test_case in range(1,11):\n",
    "    tc=int(input())\n",
    "    lst=[list(map(int,input().split())) for _ in range(100)]\n",
    "    ans=v3=v4=0\n",
    "    for i in range(100):\n",
    "        v1=v2=0\n",
    "        for j in range(100): \n",
    "            v1+=lst[i][j] # 행 합\n",
    "            v2+=lst[j][i] # 열 합\n",
    "        ans=max(ans,v1,v2) \n",
    "        v3+=lst[i][i] # 오른쪽 아래 대각선 합\n",
    "        v4+=lst[i][100-1-i] # 왼쪽 아래 대각선 합\n",
    "        ans=max(ans,v3,v4)\n",
    "    print(\"#%d %d\"%(test_case,ans))\n"
   ]
  },
  {
   "cell_type": "code",
   "execution_count": null,
   "metadata": {},
   "outputs": [],
   "source": [
    "# 상하좌우 인접 원소 더하기\n",
    "\n",
    "for i in range(1, 11):\n",
    "  _ = input()\n",
    "  nums = [list(map(int, input().split())) for _ in range(100)] #배열입력\n",
    "\n",
    "  # 각 행의 합 중 최대값 \n",
    "  row_max = 0\n",
    "  for row in nums:\n",
    "    row_sum = sum(row) #행 합\n",
    "    if row_sum > row_max: row_max = row_sum\n",
    "\n",
    "  # 각 열의 합 중 최대값\n",
    "  col_max = 0\n",
    "  for col in zip(*nums):\n",
    "    col_sum = sum(col) #열 합\n",
    "    if col_sum > col_max: col_max = col_sum\n",
    "\n",
    "  # 오른쪽 아래 대각선\n",
    "  d1_sum = sum([nums[j][j] for j in range(100)])\n",
    "\n",
    "  # 왼쪽 아래 대각선\n",
    "  d2_sum = sum([nums[j][99-j] for j in range(100)])\n",
    "\n",
    "  print(f\"#{i} {max(row_max, col_max, d1_sum, d2_sum)}\")"
   ]
  },
  {
   "cell_type": "code",
   "execution_count": null,
   "metadata": {},
   "outputs": [],
   "source": [
    "# 좌표 파악해서 색칠하기 \n",
    "dr = [-1,1,0,0]\n",
    "dc = [0,0,-1,1]\n",
    "\n",
    "N= 10\n",
    "arr = [[0] * N for _ in range(N)]\n",
    "\n",
    "# 1. 좌상단, 우하단 좌표를 알고 있을 때\n",
    "# r1,c1 = 3,3\n",
    "# r2,c2 = 7,8\n",
    "\n",
    "# for r in range(r1,r2+1):\n",
    "#     for c in range(c1,c2+1):\n",
    "#         arr[r][c]=1\n",
    "\n",
    "# 2. 좌상단, 행과 열의 크기를 알고 있을 때\n",
    "r1,c1 = 3,3\n",
    "rsize = 5\n",
    "csize = 6\n",
    "\n",
    "for r in range(r1,r1+rsize):\n",
    "    for c in range(c1,c1+csize):\n",
    "        arr[r][c] =2 \n",
    "\n",
    "for row in arr:\n",
    "    print(*row)\n"
   ]
  },
  {
   "cell_type": "code",
   "execution_count": 47,
   "metadata": {},
   "outputs": [
    {
     "name": "stdout",
     "output_type": "stream",
     "text": [
      "0 0 0 0 0 0 0 0 0 0\n",
      "0 0 0 0 0 0 0 0 0 0\n",
      "0 0 1 1 1 0 0 0 0 0\n",
      "0 0 1 3 3 2 2 0 0 0\n",
      "0 0 1 3 3 2 2 0 0 0\n",
      "0 0 0 2 2 2 2 0 0 0\n",
      "0 0 0 2 2 2 2 0 0 0\n",
      "0 0 0 0 0 0 0 0 0 0\n",
      "0 0 0 0 0 0 0 0 0 0\n",
      "0 0 0 0 0 0 0 0 0 0\n",
      "#1 4\n"
     ]
    }
   ],
   "source": [
    "T = int(input()) # 시도 횟수\n",
    "\n",
    "for tc in range(1,T+1):\n",
    "    N = int(input()) # 칠할 영역의 개수\n",
    "    color_info = [list(map(int,input().split())) for _ in range(N)] \n",
    "    box = [[0] * 10 for _ in range(10)]\n",
    "\n",
    "    cont = 0\n",
    "\n",
    "    for i in range(N):\n",
    "        color_com = color_info[i]\n",
    "\n",
    "        for r in range(color_com[0],color_com[2]+1):\n",
    "            for c in range(color_com[1],color_com[3]+1):\n",
    "                box[r][c] += color_com[4]\n",
    "\n",
    "                if box[r][c] == 3:\n",
    "                    cont += 1\n",
    "    \n",
    "    # for row in box:\n",
    "    #     print(*row)\n",
    "    \n",
    "    print(f'#{tc} {cont}')"
   ]
  },
  {
   "cell_type": "code",
   "execution_count": null,
   "metadata": {},
   "outputs": [],
   "source": [
    "arr = [[]]\n",
    "for _ in range(n):\n",
    "    r1,c1,r2,c2,color = map~~~~~~\n",
    "\n",
    "    for i in range(r1,r2+1):\n",
    "        for j in range(c1,c2+1)"
   ]
  },
  {
   "cell_type": "code",
   "execution_count": 45,
   "metadata": {},
   "outputs": [
    {
     "name": "stdout",
     "output_type": "stream",
     "text": [
      "#1 4\n"
     ]
    }
   ],
   "source": [
    "\n",
    "T = int(input())\n",
    " \n",
    "for tc in range(1, T + 1):\n",
    "    n = int(input())\n",
    "    color_matrix = [list(map(int, input().split())) for _ in range(n)]\n",
    " \n",
    "    matrix_to_fill = [[0] * 10 for _ in range(10)]\n",
    " \n",
    "    for c in range(n):\n",
    "        color_indicator = color_matrix[c]\n",
    "        # 빨강 1, 파랑 2\n",
    "        color = color_indicator[4]\n",
    "        x1, y1, x2, y2 = color_indicator[:4]\n",
    "         \n",
    "        # 색칠하기 == 숫자 더하기\n",
    "        for i in range(x1, x2 + 1):\n",
    "            for j in range(y1, y2 + 1):\n",
    "                matrix_to_fill[i][j] += color\n",
    " \n",
    "    violet_cnt = 0\n",
    " \n",
    "    for i in range(10):\n",
    "        for j in range(10):\n",
    "            if matrix_to_fill[i][j] >= 3:\n",
    "                violet_cnt += 1\n",
    "     \n",
    "    print(f'#{tc} {violet_cnt}')\n"
   ]
  },
  {
   "cell_type": "code",
   "execution_count": 2,
   "metadata": {},
   "outputs": [
    {
     "name": "stdout",
     "output_type": "stream",
     "text": [
      "8\n",
      "-1\n"
     ]
    }
   ],
   "source": [
    "# 이진 탐색\n",
    "def binary_search(arr, lo, hi, key):\n",
    "    \n",
    "    while lo <= hi:\n",
    "    \n",
    "        mid = (lo+hi) // 2\n",
    "        if arr[mid] == key:\n",
    "            return mid\n",
    "        \n",
    "        elif arr[mid] > key:\n",
    "            hi = mid-1\n",
    "        else:\n",
    "            lo = mid+1\n",
    "\n",
    "    return -1 # 검색 실패\n",
    "\n",
    "arr = [8,11,16,28,39,49,60,67,85,89]\n",
    "N = len(arr) # 10\n",
    "\n",
    "print(binary_search(arr, 0, N-1, 85))\n",
    "\n",
    "print(binary_search(arr, 0, N-1, 10))\n",
    "\n"
   ]
  },
  {
   "cell_type": "code",
   "execution_count": 13,
   "metadata": {},
   "outputs": [
    {
     "name": "stdout",
     "output_type": "stream",
     "text": [
      "[10, 25, 64, 22, 11]\n",
      "[10, 11, 64, 22, 25]\n",
      "[10, 11, 22, 64, 25]\n",
      "[10, 11, 22, 25, 64]\n",
      "[10, 11, 22, 25, 64]\n"
     ]
    }
   ],
   "source": [
    "# 셀력션 알고리즘\n",
    "arr = [64,25,10,22,11]\n",
    "N = len(arr)\n",
    "\n",
    "for i in range(5):\n",
    "    idx =i # i 범위 시작, 최소값의 저장위치\n",
    "\n",
    "    for j in range(i+1,N):\n",
    "        if arr[idx] > arr[j]:\n",
    "            idx = j\n",
    "    arr[i], arr[idx] = arr[idx],arr[i]\n",
    "    print(arr)\n"
   ]
  }
 ],
 "metadata": {
  "kernelspec": {
   "display_name": "Python 3",
   "language": "python",
   "name": "python3"
  },
  "language_info": {
   "codemirror_mode": {
    "name": "ipython",
    "version": 3
   },
   "file_extension": ".py",
   "mimetype": "text/x-python",
   "name": "python",
   "nbconvert_exporter": "python",
   "pygments_lexer": "ipython3",
   "version": "3.9.13"
  }
 },
 "nbformat": 4,
 "nbformat_minor": 2
}
