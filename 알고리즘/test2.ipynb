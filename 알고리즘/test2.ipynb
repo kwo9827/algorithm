{
 "cells": [
  {
   "cell_type": "code",
   "execution_count": 3,
   "metadata": {},
   "outputs": [
    {
     "name": "stdout",
     "output_type": "stream",
     "text": [
      "#1 0 1 4 7 8\n"
     ]
    }
   ],
   "source": [
    "# 셀력션 알고리즘\n",
    "T = int(input())\n",
    "for tc in range(1,T+1):\n",
    "    N = int(input())\n",
    "    arr = list(map(int,input().split()))\n",
    "    \n",
    "\n",
    "    for i in range(N):\n",
    "        idx =i # i 범위 시작, 최소값의 저장위치\n",
    "\n",
    "        for j in range(i+1,N):\n",
    "            if arr[idx] > arr[j]:\n",
    "                idx = j\n",
    "        arr[i], arr[idx] = arr[idx],arr[i]\n",
    "    print(f'#{tc}', *arr)"
   ]
  },
  {
   "cell_type": "code",
   "execution_count": 11,
   "metadata": {},
   "outputs": [
    {
     "name": "stdout",
     "output_type": "stream",
     "text": [
      "#1 [11, 1, 10, 2, 9, 3, 8, 4, 7, 5]\n"
     ]
    }
   ],
   "source": [
    "# 셀력션 알고리즘\n",
    "T = int(input())\n",
    "for tc in range(1,T+1):\n",
    "    N = int(input())       # 정수 개수 \n",
    "    arr = list(map(int,input().split()))  \n",
    "    \n",
    "    for i in range(N):  \n",
    "        min_idx = i\n",
    "        max_idx = i # i 범위 시작, 최소값의 저장위치\n",
    "        for j in range(i+1,N):\n",
    "            if arr[max_idx] < arr[j]:\n",
    "                max_idx = j\n",
    "            if arr[min_idx] > arr[j]:\n",
    "                min_idx = j\n",
    "            \n",
    "        if i %2 == 0:         # 짝수일때\n",
    "            arr[i],arr[max_idx] = arr[max_idx],arr[i]\n",
    "        if i %2 != 0:         # 홀수일때\n",
    "            arr[i],arr[min_idx] = arr[min_idx],arr[i]\n",
    "        result = arr[:10]\n",
    "        \n",
    "    print(f'#{tc}', *result)"
   ]
  },
  {
   "cell_type": "code",
   "execution_count": 5,
   "metadata": {},
   "outputs": [
    {
     "ename": "NameError",
     "evalue": "name 'str_lst' is not defined",
     "output_type": "error",
     "traceback": [
      "\u001b[1;31m---------------------------------------------------------------------------\u001b[0m",
      "\u001b[1;31mNameError\u001b[0m                                 Traceback (most recent call last)",
      "Cell \u001b[1;32mIn[5], line 20\u001b[0m\n\u001b[0;32m     18\u001b[0m         ai[i] ,ai[mx_i] \u001b[38;5;241m=\u001b[39m ai[mx_i] , ai[i]\n\u001b[0;32m     19\u001b[0m \u001b[38;5;66;03m# str_lst = list(map(str, ai[:10]))\u001b[39;00m\n\u001b[1;32m---> 20\u001b[0m answer \u001b[38;5;241m=\u001b[39m \u001b[38;5;124m'\u001b[39m\u001b[38;5;124m \u001b[39m\u001b[38;5;124m'\u001b[39m\u001b[38;5;241m.\u001b[39mjoin(\u001b[43mstr_lst\u001b[49m)\n\u001b[0;32m     21\u001b[0m \u001b[38;5;28mprint\u001b[39m(\u001b[38;5;124mf\u001b[39m\u001b[38;5;124m'\u001b[39m\u001b[38;5;124m#\u001b[39m\u001b[38;5;132;01m{\u001b[39;00mtc\u001b[38;5;132;01m}\u001b[39;00m\u001b[38;5;124m \u001b[39m\u001b[38;5;132;01m{\u001b[39;00manswer\u001b[38;5;132;01m}\u001b[39;00m\u001b[38;5;124m'\u001b[39m)\n",
      "\u001b[1;31mNameError\u001b[0m: name 'str_lst' is not defined"
     ]
    }
   ],
   "source": [
    "T = int(input())\n",
    " \n",
    "for tc in range(1, T+1) :\n",
    "    N = int(input())\n",
    "    ai = list(map(int, input().split()))\n",
    "     \n",
    "    for i in range(N) :\n",
    "        mx_i = i\n",
    "        mn_i = i\n",
    "        for j in range(i+1, N) :\n",
    "            if ai[mn_i] > ai[j] :\n",
    "                mn_i = j\n",
    "            if ai[mx_i] < ai[j] :\n",
    "                mx_i = j\n",
    "        if i % 2 == 1 : #홀수 (작은수 배열)        \n",
    "            ai[i], ai[mn_i] = ai[mn_i], ai[i]\n",
    "        elif i % 2 == 0 : # 짝수 (큰수 배열)\n",
    "            ai[i] ,ai[mx_i] = ai[mx_i] , ai[i]\n",
    "    # str_lst = list(map(str, ai[:10]))\n",
    "    answer = ' '.join(str_lst)\n",
    "    print(f'#{tc} {answer}')"
   ]
  },
  {
   "cell_type": "code",
   "execution_count": 11,
   "metadata": {},
   "outputs": [
    {
     "ename": "KeyboardInterrupt",
     "evalue": "",
     "output_type": "error",
     "traceback": [
      "\u001b[1;31m---------------------------------------------------------------------------\u001b[0m",
      "\u001b[1;31mKeyboardInterrupt\u001b[0m                         Traceback (most recent call last)",
      "Cell \u001b[1;32mIn[11], line 24\u001b[0m\n\u001b[0;32m     19\u001b[0m     \u001b[38;5;28;01mreturn\u001b[39;00m \u001b[38;5;28;01mFalse\u001b[39;00m    \u001b[38;5;66;03m# 검색 실패\u001b[39;00m\n\u001b[0;32m     22\u001b[0m pa,pb \u001b[38;5;241m=\u001b[39m \u001b[38;5;28mmap\u001b[39m(\u001b[38;5;28mint\u001b[39m,\u001b[38;5;28minput\u001b[39m()\u001b[38;5;241m.\u001b[39msplit())\n\u001b[1;32m---> 24\u001b[0m result_a \u001b[38;5;241m=\u001b[39m \u001b[43mbinarySearch\u001b[49m\u001b[43m(\u001b[49m\u001b[43mpa\u001b[49m\u001b[43m)\u001b[49m\n\u001b[0;32m     25\u001b[0m result_b \u001b[38;5;241m=\u001b[39m binarySearch(pb)\n\u001b[0;32m     27\u001b[0m \u001b[38;5;28;01mif\u001b[39;00m result_a \u001b[38;5;241m<\u001b[39m result_b:\n",
      "Cell \u001b[1;32mIn[11], line 18\u001b[0m, in \u001b[0;36mbinarySearch\u001b[1;34m(key)\u001b[0m\n\u001b[0;32m     16\u001b[0m     \u001b[38;5;28;01melse\u001b[39;00m:       \u001b[38;5;66;03m# middle < key\u001b[39;00m\n\u001b[0;32m     17\u001b[0m         start \u001b[38;5;241m=\u001b[39m middle \n\u001b[1;32m---> 18\u001b[0m         cont \u001b[38;5;241m+\u001b[39m\u001b[38;5;241m=\u001b[39m \u001b[38;5;241m1\u001b[39m\n\u001b[0;32m     19\u001b[0m \u001b[38;5;28;01mreturn\u001b[39;00m \u001b[38;5;28;01mFalse\u001b[39;00m\n",
      "\u001b[1;31mKeyboardInterrupt\u001b[0m: "
     ]
    }
   ],
   "source": [
    "# def binarySearch(key): # a 리스트 n 리스트길이 key 찾을값\n",
    "#     start = 0 \n",
    "#     a = [1,4,6,8,2,10,13,15,20]\n",
    "#     N = len(a)\n",
    "#     end = N-1\n",
    "#     cont = 0\n",
    "    \n",
    "#     while start <= end:\n",
    "#         middle = int((start+end)/2)\n",
    "#         if a[middle] == key:  # 검색 성공\n",
    "#             cont += 1\n",
    "#             return cont\n",
    "#         elif a[middle] > key:\n",
    "#             end = middle   \n",
    "#             cont += 1\n",
    "#         else:       # middle < key\n",
    "#             start = middle \n",
    "#             cont += 1\n",
    "#     return False    # 검색 실패\n",
    "def binarySearch(N,key):\n",
    "    start = 1 \n",
    "    end = N\n",
    "    cont = 0  # 찾는 횟수\n",
    "\n",
    "    while start <= end:\n",
    "        middle = int((start+end)//2)\n",
    "        if middle == key:  # 검색 성공\n",
    "            cont += 1\n",
    "            return cont\n",
    "        elif middle > key:\n",
    "            end = middle  \n",
    "            cont += 1\n",
    "        else:       # middle < key\n",
    "            start = middle \n",
    "            cont += 1\n",
    "    return False    # 검색 실패\n",
    "\n",
    "T = int(input())\n",
    "\n",
    "for tc in range(1,T+1):\n",
    "    page,pa,pb = map(int,input().split())\n",
    "\n",
    "    result_a = binarySearch(page,pa)\n",
    "    result_b = binarySearch(page,pb)\n",
    "    \n",
    "    if result_a < result_b:\n",
    "        win = 'A'\n",
    "    elif result_a > result_b:\n",
    "        win = 'B'\n",
    "    else:\n",
    "        win = 0\n",
    "     \n",
    "    print(f'#{tc} {win}')\n",
    "\n",
    "    "
   ]
  },
  {
   "cell_type": "code",
   "execution_count": 12,
   "metadata": {},
   "outputs": [
    {
     "name": "stdout",
     "output_type": "stream",
     "text": [
      "1515\n"
     ]
    }
   ],
   "source": [
    "if False < 100:\n",
    "    print(1515)"
   ]
  },
  {
   "cell_type": "code",
   "execution_count": null,
   "metadata": {},
   "outputs": [],
   "source": [
    "for tc in (1,11):\n",
    "    ladder = [[0]*10 for _ in range(10)]\n",
    "    \n",
    "\n",
    "\n",
    "    print(f'#{tc}')\n",
    "    pass"
   ]
  },
  {
   "cell_type": "code",
   "execution_count": null,
   "metadata": {},
   "outputs": [],
   "source": [
    "def bug_sum(arr, N, r1, c1, M):\n",
    "    result = 0\n",
    "    for r in range(r1, r1 + M):\n",
    "        for c in range(c1, c1 + M):\n",
    "            result += arr[r][c]\n",
    "    return result\n",
    "\n",
    "T= int(input())\n",
    "for tc in range(1, T + 1):\n",
    "    N, M = map(int, input().split())\n",
    "    arr = [list(map(int,input().split())) for _ in range(N)]\n",
    "     \n",
    "    ans = 0\n",
    "    for r in range(N-M + 1):\n",
    "        for c in range(N-M + 1):\n",
    "            ret = bug_sum(arr, N, r, c, M)\n",
    "            if ans < ret:\n",
    "                ans = ret\n",
    "    print(f'#{tc} {ans}')\n",
    "\n",
    "   T = int(input())\n",
    "for test_case in range(1, T + 1):\n",
    "    N, M = map(int, input().split())\n",
    "    arr = [list(map(int, input().split())) for _ in range(N)]\n",
    "     \n",
    "    max_cnt = 0  # 최대 값을 저장할 변수\n",
    "     \n",
    "    for i in range(N - M + 1):\n",
    "        for j in range(N - M + 1):\n",
    "            cnt = 0  # 매번 새로운 서브 매트릭스를 계산할 때 cnt를 초기화\n",
    "            for r in range(i, i + M):\n",
    "                for c in range(j, j + M):\n",
    "                    cnt += arr[r][c]\n",
    "            if cnt > max_cnt:  # 현재 cnt가 max_cnt보다 크면 갱신\n",
    "                max_cnt = cnt\n",
    "                 \n",
    "    print(f\"#{test_case} {max_cnt}\")  # 각 테스트 케이스마다 최대 값을 출력"
   ]
  },
  {
   "cell_type": "code",
   "execution_count": null,
   "metadata": {},
   "outputs": [],
   "source": [
    "T = int(input())\n",
    "\n",
    "for tc in range(1,T+1):\n",
    "    N,M = map(int,input().split())\n",
    "    lst = [list(map(int,input().split())) for _ in range(N)]\n",
    "    max_bug = 0\n",
    "\n",
    "    for i in range(N-M+1):\n",
    "        for j in range(N-M+1):\n",
    "            sum_bug = 0\n",
    "            for r in range(i, i+M):\n",
    "                for c in range(j, j+M):\n",
    "                    sum_bug += lst[r][c]\n",
    "            if sum_bug > max_bug:\n",
    "                max_bug = sum_bug\n",
    "\n",
    "    print(f'#{tc} {max_bug}')"
   ]
  },
  {
   "cell_type": "code",
   "execution_count": 28,
   "metadata": {},
   "outputs": [
    {
     "name": "stdout",
     "output_type": "stream",
     "text": [
      "1 2 3\n",
      "0 0 0\n",
      "0 0 0\n"
     ]
    }
   ],
   "source": [
    "T = int(input())\n",
    "\n",
    "for tc in range(1,T+1):\n",
    "    N = int(input())\n",
    "\n",
    "    arr = [[0] * N for _ in range(N)]\n",
    "\n",
    "    sum = 0\n",
    "    cont= 0\n",
    "\n",
    "    dx = [1,0,-1,0]\n",
    "    dy = [0,1,0,-1] \n",
    "    \n",
    "    for r in range(N):\n",
    "        cont+=1\n",
    "        arr[0][r] = cont\n",
    "                \n",
    "\n",
    "    for row in arr:\n",
    "        print(*row)"
   ]
  },
  {
   "cell_type": "code",
   "execution_count": 20,
   "metadata": {},
   "outputs": [
    {
     "name": "stdout",
     "output_type": "stream",
     "text": [
      "0 0 0 0 0 0 0 0 0 0\n",
      "0 0 0 0 0 0 0 0 0 0\n",
      "0 0 0 0 0 0 0 0 0 0\n",
      "0 0 0 1 2 3 4 5 6 0\n",
      "0 0 0 7 8 9 10 11 12 0\n",
      "0 0 0 13 14 15 16 17 18 0\n",
      "0 0 0 19 20 21 22 23 24 0\n",
      "0 0 0 25 26 27 28 29 30 0\n",
      "0 0 0 0 0 0 0 0 0 0\n",
      "0 0 0 0 0 0 0 0 0 0\n"
     ]
    }
   ],
   "source": [
    "dr = [-1,1,0,0]\n",
    "dc = [0,0,-1,1]\n",
    "\n",
    "N= 10\n",
    "arr = [[0] * N for _ in range(N)]\n",
    "\n",
    "# 1. 좌상단, 우하단 좌표를 알고 있을 때\n",
    "# r1,c1 = 3,3\n",
    "# r2,c2 = 7,8\n",
    "\n",
    "# for r in range(r1,r2+1):\n",
    "#     for c in range(c1,c2+1):\n",
    "#         arr[r][c]=1\n",
    "\n",
    "# 2. 좌상단, 행과 열의 크기를 알고 있을 때\n",
    "r1,c1 = 3,3\n",
    "rsize = 5\n",
    "csize = 6\n",
    "cont= 0\n",
    "for r in range(r1,r1+rsize):\n",
    "    for c in range(c1,c1+csize):\n",
    "        cont+=1\n",
    "        arr[r][c] = cont \n",
    "\n",
    "for row in arr:\n",
    "    print(*row)"
   ]
  }
 ],
 "metadata": {
  "kernelspec": {
   "display_name": "Python 3",
   "language": "python",
   "name": "python3"
  },
  "language_info": {
   "codemirror_mode": {
    "name": "ipython",
    "version": 3
   },
   "file_extension": ".py",
   "mimetype": "text/x-python",
   "name": "python",
   "nbconvert_exporter": "python",
   "pygments_lexer": "ipython3",
   "version": "3.9.13"
  }
 },
 "nbformat": 4,
 "nbformat_minor": 2
}
